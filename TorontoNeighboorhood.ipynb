{
    "cells": [
        {
            "metadata": {
                "collapsed": true
            },
            "cell_type": "markdown",
            "source": "# Toronto Neighboorhood Project"
        },
        {
            "metadata": {},
            "cell_type": "markdown",
            "source": "<b>PART1<b>"
        },
        {
            "metadata": {},
            "cell_type": "code",
            "source": "#PULLING TABLE DATA FROM WIKI#\n\n\n#!pip install html-table-parser-python3\nimport pandas as pd\nimport numpy as np\nimport urllib.request\nfrom pprint import pprint\nfrom html_table_parser import HTMLTableParser\n\n\ndef url_get_contents(url):\n    \"\"\" Opens a website and read its binary contents (HTTP Response Body) \"\"\"\n    req = urllib.request.Request(url=url)\n    f = urllib.request.urlopen(req)\n    return f.read()\n\n\ndef main():\n    url = 'https://en.wikipedia.org/wiki/List_of_postal_codes_of_Canada:_M'\n    xhtml = url_get_contents(url).decode('utf-8')\n\n    p = HTMLTableParser()\n    p.feed(xhtml)\n    global table\n    table=p.tables[0]\n    pprint(table)\n    \n\nif __name__ == '__main__':\n    main()",
            "execution_count": 1,
            "outputs": [
                {
                    "output_type": "stream",
                    "text": "Requirement already satisfied: html-table-parser-python3 in /opt/conda/envs/Python-3.7-main/lib/python3.7/site-packages (0.1.5)\n[['Postal Code', 'Borough', 'Neighbourhood'],\n ['M1A', 'Not assigned', 'Not assigned'],\n ['M2A', 'Not assigned', 'Not assigned'],\n ['M3A', 'North York', 'Parkwoods'],\n ['M4A', 'North York', 'Victoria Village'],\n ['M5A', 'Downtown Toronto', 'Regent Park, Harbourfront'],\n ['M6A', 'North York', 'Lawrence Manor, Lawrence Heights'],\n ['M7A', 'Downtown Toronto', \"Queen's Park, Ontario Provincial Government\"],\n ['M8A', 'Not assigned', 'Not assigned'],\n ['M9A', 'Etobicoke', 'Islington Avenue, Humber Valley Village'],\n ['M1B', 'Scarborough', 'Malvern, Rouge'],\n ['M2B', 'Not assigned', 'Not assigned'],\n ['M3B', 'North York', 'Don Mills'],\n ['M4B', 'East York', 'Parkview Hill, Woodbine Gardens'],\n ['M5B', 'Downtown Toronto', 'Garden District, Ryerson'],\n ['M6B', 'North York', 'Glencairn'],\n ['M7B', 'Not assigned', 'Not assigned'],\n ['M8B', 'Not assigned', 'Not assigned'],\n ['M9B',\n  'Etobicoke',\n  'West Deane Park, Princess Gardens, Martin Grove, Islington, Cloverdale'],\n ['M1C', 'Scarborough', 'Rouge Hill, Port Union, Highland Creek'],\n ['M2C', 'Not assigned', 'Not assigned'],\n ['M3C', 'North York', 'Don Mills'],\n ['M4C', 'East York', 'Woodbine Heights'],\n ['M5C', 'Downtown Toronto', 'St. James Town'],\n ['M6C', 'York', 'Humewood-Cedarvale'],\n ['M7C', 'Not assigned', 'Not assigned'],\n ['M8C', 'Not assigned', 'Not assigned'],\n ['M9C',\n  'Etobicoke',\n  'Eringate, Bloordale Gardens, Old Burnhamthorpe, Markland Wood'],\n ['M1E', 'Scarborough', 'Guildwood, Morningside, West Hill'],\n ['M2E', 'Not assigned', 'Not assigned'],\n ['M3E', 'Not assigned', 'Not assigned'],\n ['M4E', 'East Toronto', 'The Beaches'],\n ['M5E', 'Downtown Toronto', 'Berczy Park'],\n ['M6E', 'York', 'Caledonia-Fairbanks'],\n ['M7E', 'Not assigned', 'Not assigned'],\n ['M8E', 'Not assigned', 'Not assigned'],\n ['M9E', 'Not assigned', 'Not assigned'],\n ['M1G', 'Scarborough', 'Woburn'],\n ['M2G', 'Not assigned', 'Not assigned'],\n ['M3G', 'Not assigned', 'Not assigned'],\n ['M4G', 'East York', 'Leaside'],\n ['M5G', 'Downtown Toronto', 'Central Bay Street'],\n ['M6G', 'Downtown Toronto', 'Christie'],\n ['M7G', 'Not assigned', 'Not assigned'],\n ['M8G', 'Not assigned', 'Not assigned'],\n ['M9G', 'Not assigned', 'Not assigned'],\n ['M1H', 'Scarborough', 'Cedarbrae'],\n ['M2H', 'North York', 'Hillcrest Village'],\n ['M3H', 'North York', 'Bathurst Manor, Wilson Heights, Downsview North'],\n ['M4H', 'East York', 'Thorncliffe Park'],\n ['M5H', 'Downtown Toronto', 'Richmond, Adelaide, King'],\n ['M6H', 'West Toronto', 'Dufferin, Dovercourt Village'],\n ['M7H', 'Not assigned', 'Not assigned'],\n ['M8H', 'Not assigned', 'Not assigned'],\n ['M9H', 'Not assigned', 'Not assigned'],\n ['M1J', 'Scarborough', 'Scarborough Village'],\n ['M2J', 'North York', 'Fairview, Henry Farm, Oriole'],\n ['M3J', 'North York', 'Northwood Park, York University'],\n ['M4J', 'East York', 'East Toronto, Broadview North (Old East York)'],\n ['M5J',\n  'Downtown Toronto',\n  'Harbourfront East, Union Station, Toronto Islands'],\n ['M6J', 'West Toronto', 'Little Portugal, Trinity'],\n ['M7J', 'Not assigned', 'Not assigned'],\n ['M8J', 'Not assigned', 'Not assigned'],\n ['M9J', 'Not assigned', 'Not assigned'],\n ['M1K', 'Scarborough', 'Kennedy Park, Ionview, East Birchmount Park'],\n ['M2K', 'North York', 'Bayview Village'],\n ['M3K', 'North York', 'Downsview'],\n ['M4K', 'East Toronto', 'The Danforth West, Riverdale'],\n ['M5K', 'Downtown Toronto', 'Toronto Dominion Centre, Design Exchange'],\n ['M6K', 'West Toronto', 'Brockton, Parkdale Village, Exhibition Place'],\n ['M7K', 'Not assigned', 'Not assigned'],\n ['M8K', 'Not assigned', 'Not assigned'],\n ['M9K', 'Not assigned', 'Not assigned'],\n ['M1L', 'Scarborough', 'Golden Mile, Clairlea, Oakridge'],\n ['M2L', 'North York', 'York Mills, Silver Hills'],\n ['M3L', 'North York', 'Downsview'],\n ['M4L', 'East Toronto', 'India Bazaar, The Beaches West'],\n ['M5L', 'Downtown Toronto', 'Commerce Court, Victoria Hotel'],\n ['M6L', 'North York', 'North Park, Maple Leaf Park, Upwood Park'],\n ['M7L', 'Not assigned', 'Not assigned'],\n ['M8L', 'Not assigned', 'Not assigned'],\n ['M9L', 'North York', 'Humber Summit'],\n ['M1M', 'Scarborough', 'Cliffside, Cliffcrest, Scarborough Village West'],\n ['M2M', 'North York', 'Willowdale, Newtonbrook'],\n ['M3M', 'North York', 'Downsview'],\n ['M4M', 'East Toronto', 'Studio District'],\n ['M5M', 'North York', 'Bedford Park, Lawrence Manor East'],\n ['M6M', 'York', 'Del Ray, Mount Dennis, Keelsdale and Silverthorn'],\n ['M7M', 'Not assigned', 'Not assigned'],\n ['M8M', 'Not assigned', 'Not assigned'],\n ['M9M', 'North York', 'Humberlea, Emery'],\n ['M1N', 'Scarborough', 'Birch Cliff, Cliffside West'],\n ['M2N', 'North York', 'Willowdale, Willowdale East'],\n ['M3N', 'North York', 'Downsview'],\n ['M4N', 'Central Toronto', 'Lawrence Park'],\n ['M5N', 'Central Toronto', 'Roselawn'],\n ['M6N', 'York', 'Runnymede, The Junction North'],\n ['M7N', 'Not assigned', 'Not assigned'],\n ['M8N', 'Not assigned', 'Not assigned'],\n ['M9N', 'York', 'Weston'],\n ['M1P',\n  'Scarborough',\n  'Dorset Park, Wexford Heights, Scarborough Town Centre'],\n ['M2P', 'North York', 'York Mills West'],\n ['M3P', 'Not assigned', 'Not assigned'],\n ['M4P', 'Central Toronto', 'Davisville North'],\n ['M5P', 'Central Toronto', 'Forest Hill North & West, Forest Hill Road Park'],\n ['M6P', 'West Toronto', 'High Park, The Junction South'],\n ['M7P', 'Not assigned', 'Not assigned'],\n ['M8P', 'Not assigned', 'Not assigned'],\n ['M9P', 'Etobicoke', 'Westmount'],\n ['M1R', 'Scarborough', 'Wexford, Maryvale'],\n ['M2R', 'North York', 'Willowdale, Willowdale West'],\n ['M3R', 'Not assigned', 'Not assigned'],\n ['M4R', 'Central Toronto', 'North Toronto West,  Lawrence Park'],\n ['M5R', 'Central Toronto', 'The Annex, North Midtown, Yorkville'],\n ['M6R', 'West Toronto', 'Parkdale, Roncesvalles'],\n ['M7R', 'Mississauga', 'Canada Post Gateway Processing Centre'],\n ['M8R', 'Not assigned', 'Not assigned'],\n ['M9R',\n  'Etobicoke',\n  'Kingsview Village, St. Phillips, Martin Grove Gardens, Richview Gardens'],\n ['M1S', 'Scarborough', 'Agincourt'],\n ['M2S', 'Not assigned', 'Not assigned'],\n ['M3S', 'Not assigned', 'Not assigned'],\n ['M4S', 'Central Toronto', 'Davisville'],\n ['M5S', 'Downtown Toronto', 'University of Toronto, Harbord'],\n ['M6S', 'West Toronto', 'Runnymede, Swansea'],\n ['M7S', 'Not assigned', 'Not assigned'],\n ['M8S', 'Not assigned', 'Not assigned'],\n ['M9S', 'Not assigned', 'Not assigned'],\n ['M1T', 'Scarborough', \"Clarks Corners, Tam O'Shanter, Sullivan\"],\n ['M2T', 'Not assigned', 'Not assigned'],\n ['M3T', 'Not assigned', 'Not assigned'],\n ['M4T', 'Central Toronto', 'Moore Park, Summerhill East'],\n ['M5T', 'Downtown Toronto', 'Kensington Market, Chinatown, Grange Park'],\n ['M6T', 'Not assigned', 'Not assigned'],\n ['M7T', 'Not assigned', 'Not assigned'],\n ['M8T', 'Not assigned', 'Not assigned'],\n ['M9T', 'Not assigned', 'Not assigned'],\n ['M1V',\n  'Scarborough',\n  \"Milliken, Agincourt North, Steeles East, L'Amoreaux East\"],\n ['M2V', 'Not assigned', 'Not assigned'],\n ['M3V', 'Not assigned', 'Not assigned'],\n ['M4V',\n  'Central Toronto',\n  'Summerhill West, Rathnelly, South Hill, Forest Hill SE, Deer Park'],\n ['M5V',\n  'Downtown Toronto',\n  'CN Tower, King and Spadina, Railway Lands, Harbourfront West, Bathurst '\n  'Quay, South Niagara, Island airport'],\n ['M6V', 'Not assigned', 'Not assigned'],\n ['M7V', 'Not assigned', 'Not assigned'],\n ['M8V', 'Etobicoke', 'New Toronto, Mimico South, Humber Bay Shores'],\n ['M9V',\n  'Etobicoke',\n  'South Steeles, Silverstone, Humbergate, Jamestown, Mount Olive, Beaumond '\n  'Heights, Thistletown, Albion Gardens'],\n ['M1W', 'Scarborough', \"Steeles West, L'Amoreaux West\"],\n ['M2W', 'Not assigned', 'Not assigned'],\n ['M3W', 'Not assigned', 'Not assigned'],\n ['M4W', 'Downtown Toronto', 'Rosedale'],\n ['M5W', 'Downtown Toronto', 'Stn A PO Boxes'],\n ['M6W', 'Not assigned', 'Not assigned'],\n ['M7W', 'Not assigned', 'Not assigned'],\n ['M8W', 'Etobicoke', 'Alderwood, Long Branch'],\n ['M9W', 'Etobicoke', 'Northwest, West Humber - Clairville'],\n ['M1X', 'Scarborough', 'Upper Rouge'],\n ['M2X', 'Not assigned', 'Not assigned'],\n ['M3X', 'Not assigned', 'Not assigned'],\n ['M4X', 'Downtown Toronto', 'St. James Town, Cabbagetown'],\n ['M5X', 'Downtown Toronto', 'First Canadian Place, Underground city'],\n ['M6X', 'Not assigned', 'Not assigned'],\n ['M7X', 'Not assigned', 'Not assigned'],\n ['M8X', 'Etobicoke', 'The Kingsway, Montgomery Road, Old Mill North'],\n ['M9X', 'Not assigned', 'Not assigned'],\n ['M1Y', 'Not assigned', 'Not assigned'],\n ['M2Y', 'Not assigned', 'Not assigned'],\n ['M3Y', 'Not assigned', 'Not assigned'],\n ['M4Y', 'Downtown Toronto', 'Church and Wellesley'],\n ['M5Y', 'Not assigned', 'Not assigned'],\n ['M6Y', 'Not assigned', 'Not assigned'],\n ['M7Y',\n  'East Toronto',\n  'Business reply mail Processing Centre, South Central Letter Processing '\n  'Plant Toronto'],\n ['M8Y',\n  'Etobicoke',\n  \"Old Mill South, King's Mill Park, Sunnylea, Humber Bay, Mimico NE, The \"\n  'Queensway East, Royal York South East, Kingsway Park South East'],\n ['M9Y', 'Not assigned', 'Not assigned'],\n ['M1Z', 'Not assigned', 'Not assigned'],\n ['M2Z', 'Not assigned', 'Not assigned'],\n ['M3Z', 'Not assigned', 'Not assigned'],\n ['M4Z', 'Not assigned', 'Not assigned'],\n ['M5Z', 'Not assigned', 'Not assigned'],\n ['M6Z', 'Not assigned', 'Not assigned'],\n ['M7Z', 'Not assigned', 'Not assigned'],\n ['M8Z',\n  'Etobicoke',\n  'Mimico NW, The Queensway West, South of Bloor, Kingsway Park South West, '\n  'Royal York South West'],\n ['M9Z', 'Not assigned', 'Not assigned']]\n",
                    "name": "stdout"
                }
            ]
        },
        {
            "metadata": {},
            "cell_type": "code",
            "source": "tbl=table\nfeatures=tbl[0]\nprint(features)",
            "execution_count": 2,
            "outputs": [
                {
                    "output_type": "stream",
                    "text": "['Postal Code', 'Borough', 'Neighbourhood']\n",
                    "name": "stdout"
                }
            ]
        },
        {
            "metadata": {},
            "cell_type": "code",
            "source": "# delete feature names from table\ndel tbl[0]\ntbl",
            "execution_count": 3,
            "outputs": [
                {
                    "output_type": "execute_result",
                    "execution_count": 3,
                    "data": {
                        "text/plain": "[['M1A', 'Not assigned', 'Not assigned'],\n ['M2A', 'Not assigned', 'Not assigned'],\n ['M3A', 'North York', 'Parkwoods'],\n ['M4A', 'North York', 'Victoria Village'],\n ['M5A', 'Downtown Toronto', 'Regent Park, Harbourfront'],\n ['M6A', 'North York', 'Lawrence Manor, Lawrence Heights'],\n ['M7A', 'Downtown Toronto', \"Queen's Park, Ontario Provincial Government\"],\n ['M8A', 'Not assigned', 'Not assigned'],\n ['M9A', 'Etobicoke', 'Islington Avenue, Humber Valley Village'],\n ['M1B', 'Scarborough', 'Malvern, Rouge'],\n ['M2B', 'Not assigned', 'Not assigned'],\n ['M3B', 'North York', 'Don Mills'],\n ['M4B', 'East York', 'Parkview Hill, Woodbine Gardens'],\n ['M5B', 'Downtown Toronto', 'Garden District, Ryerson'],\n ['M6B', 'North York', 'Glencairn'],\n ['M7B', 'Not assigned', 'Not assigned'],\n ['M8B', 'Not assigned', 'Not assigned'],\n ['M9B',\n  'Etobicoke',\n  'West Deane Park, Princess Gardens, Martin Grove, Islington, Cloverdale'],\n ['M1C', 'Scarborough', 'Rouge Hill, Port Union, Highland Creek'],\n ['M2C', 'Not assigned', 'Not assigned'],\n ['M3C', 'North York', 'Don Mills'],\n ['M4C', 'East York', 'Woodbine Heights'],\n ['M5C', 'Downtown Toronto', 'St. James Town'],\n ['M6C', 'York', 'Humewood-Cedarvale'],\n ['M7C', 'Not assigned', 'Not assigned'],\n ['M8C', 'Not assigned', 'Not assigned'],\n ['M9C',\n  'Etobicoke',\n  'Eringate, Bloordale Gardens, Old Burnhamthorpe, Markland Wood'],\n ['M1E', 'Scarborough', 'Guildwood, Morningside, West Hill'],\n ['M2E', 'Not assigned', 'Not assigned'],\n ['M3E', 'Not assigned', 'Not assigned'],\n ['M4E', 'East Toronto', 'The Beaches'],\n ['M5E', 'Downtown Toronto', 'Berczy Park'],\n ['M6E', 'York', 'Caledonia-Fairbanks'],\n ['M7E', 'Not assigned', 'Not assigned'],\n ['M8E', 'Not assigned', 'Not assigned'],\n ['M9E', 'Not assigned', 'Not assigned'],\n ['M1G', 'Scarborough', 'Woburn'],\n ['M2G', 'Not assigned', 'Not assigned'],\n ['M3G', 'Not assigned', 'Not assigned'],\n ['M4G', 'East York', 'Leaside'],\n ['M5G', 'Downtown Toronto', 'Central Bay Street'],\n ['M6G', 'Downtown Toronto', 'Christie'],\n ['M7G', 'Not assigned', 'Not assigned'],\n ['M8G', 'Not assigned', 'Not assigned'],\n ['M9G', 'Not assigned', 'Not assigned'],\n ['M1H', 'Scarborough', 'Cedarbrae'],\n ['M2H', 'North York', 'Hillcrest Village'],\n ['M3H', 'North York', 'Bathurst Manor, Wilson Heights, Downsview North'],\n ['M4H', 'East York', 'Thorncliffe Park'],\n ['M5H', 'Downtown Toronto', 'Richmond, Adelaide, King'],\n ['M6H', 'West Toronto', 'Dufferin, Dovercourt Village'],\n ['M7H', 'Not assigned', 'Not assigned'],\n ['M8H', 'Not assigned', 'Not assigned'],\n ['M9H', 'Not assigned', 'Not assigned'],\n ['M1J', 'Scarborough', 'Scarborough Village'],\n ['M2J', 'North York', 'Fairview, Henry Farm, Oriole'],\n ['M3J', 'North York', 'Northwood Park, York University'],\n ['M4J', 'East York', 'East Toronto, Broadview North (Old East York)'],\n ['M5J',\n  'Downtown Toronto',\n  'Harbourfront East, Union Station, Toronto Islands'],\n ['M6J', 'West Toronto', 'Little Portugal, Trinity'],\n ['M7J', 'Not assigned', 'Not assigned'],\n ['M8J', 'Not assigned', 'Not assigned'],\n ['M9J', 'Not assigned', 'Not assigned'],\n ['M1K', 'Scarborough', 'Kennedy Park, Ionview, East Birchmount Park'],\n ['M2K', 'North York', 'Bayview Village'],\n ['M3K', 'North York', 'Downsview'],\n ['M4K', 'East Toronto', 'The Danforth West, Riverdale'],\n ['M5K', 'Downtown Toronto', 'Toronto Dominion Centre, Design Exchange'],\n ['M6K', 'West Toronto', 'Brockton, Parkdale Village, Exhibition Place'],\n ['M7K', 'Not assigned', 'Not assigned'],\n ['M8K', 'Not assigned', 'Not assigned'],\n ['M9K', 'Not assigned', 'Not assigned'],\n ['M1L', 'Scarborough', 'Golden Mile, Clairlea, Oakridge'],\n ['M2L', 'North York', 'York Mills, Silver Hills'],\n ['M3L', 'North York', 'Downsview'],\n ['M4L', 'East Toronto', 'India Bazaar, The Beaches West'],\n ['M5L', 'Downtown Toronto', 'Commerce Court, Victoria Hotel'],\n ['M6L', 'North York', 'North Park, Maple Leaf Park, Upwood Park'],\n ['M7L', 'Not assigned', 'Not assigned'],\n ['M8L', 'Not assigned', 'Not assigned'],\n ['M9L', 'North York', 'Humber Summit'],\n ['M1M', 'Scarborough', 'Cliffside, Cliffcrest, Scarborough Village West'],\n ['M2M', 'North York', 'Willowdale, Newtonbrook'],\n ['M3M', 'North York', 'Downsview'],\n ['M4M', 'East Toronto', 'Studio District'],\n ['M5M', 'North York', 'Bedford Park, Lawrence Manor East'],\n ['M6M', 'York', 'Del Ray, Mount Dennis, Keelsdale and Silverthorn'],\n ['M7M', 'Not assigned', 'Not assigned'],\n ['M8M', 'Not assigned', 'Not assigned'],\n ['M9M', 'North York', 'Humberlea, Emery'],\n ['M1N', 'Scarborough', 'Birch Cliff, Cliffside West'],\n ['M2N', 'North York', 'Willowdale, Willowdale East'],\n ['M3N', 'North York', 'Downsview'],\n ['M4N', 'Central Toronto', 'Lawrence Park'],\n ['M5N', 'Central Toronto', 'Roselawn'],\n ['M6N', 'York', 'Runnymede, The Junction North'],\n ['M7N', 'Not assigned', 'Not assigned'],\n ['M8N', 'Not assigned', 'Not assigned'],\n ['M9N', 'York', 'Weston'],\n ['M1P',\n  'Scarborough',\n  'Dorset Park, Wexford Heights, Scarborough Town Centre'],\n ['M2P', 'North York', 'York Mills West'],\n ['M3P', 'Not assigned', 'Not assigned'],\n ['M4P', 'Central Toronto', 'Davisville North'],\n ['M5P', 'Central Toronto', 'Forest Hill North & West, Forest Hill Road Park'],\n ['M6P', 'West Toronto', 'High Park, The Junction South'],\n ['M7P', 'Not assigned', 'Not assigned'],\n ['M8P', 'Not assigned', 'Not assigned'],\n ['M9P', 'Etobicoke', 'Westmount'],\n ['M1R', 'Scarborough', 'Wexford, Maryvale'],\n ['M2R', 'North York', 'Willowdale, Willowdale West'],\n ['M3R', 'Not assigned', 'Not assigned'],\n ['M4R', 'Central Toronto', 'North Toronto West,  Lawrence Park'],\n ['M5R', 'Central Toronto', 'The Annex, North Midtown, Yorkville'],\n ['M6R', 'West Toronto', 'Parkdale, Roncesvalles'],\n ['M7R', 'Mississauga', 'Canada Post Gateway Processing Centre'],\n ['M8R', 'Not assigned', 'Not assigned'],\n ['M9R',\n  'Etobicoke',\n  'Kingsview Village, St. Phillips, Martin Grove Gardens, Richview Gardens'],\n ['M1S', 'Scarborough', 'Agincourt'],\n ['M2S', 'Not assigned', 'Not assigned'],\n ['M3S', 'Not assigned', 'Not assigned'],\n ['M4S', 'Central Toronto', 'Davisville'],\n ['M5S', 'Downtown Toronto', 'University of Toronto, Harbord'],\n ['M6S', 'West Toronto', 'Runnymede, Swansea'],\n ['M7S', 'Not assigned', 'Not assigned'],\n ['M8S', 'Not assigned', 'Not assigned'],\n ['M9S', 'Not assigned', 'Not assigned'],\n ['M1T', 'Scarborough', \"Clarks Corners, Tam O'Shanter, Sullivan\"],\n ['M2T', 'Not assigned', 'Not assigned'],\n ['M3T', 'Not assigned', 'Not assigned'],\n ['M4T', 'Central Toronto', 'Moore Park, Summerhill East'],\n ['M5T', 'Downtown Toronto', 'Kensington Market, Chinatown, Grange Park'],\n ['M6T', 'Not assigned', 'Not assigned'],\n ['M7T', 'Not assigned', 'Not assigned'],\n ['M8T', 'Not assigned', 'Not assigned'],\n ['M9T', 'Not assigned', 'Not assigned'],\n ['M1V',\n  'Scarborough',\n  \"Milliken, Agincourt North, Steeles East, L'Amoreaux East\"],\n ['M2V', 'Not assigned', 'Not assigned'],\n ['M3V', 'Not assigned', 'Not assigned'],\n ['M4V',\n  'Central Toronto',\n  'Summerhill West, Rathnelly, South Hill, Forest Hill SE, Deer Park'],\n ['M5V',\n  'Downtown Toronto',\n  'CN Tower, King and Spadina, Railway Lands, Harbourfront West, Bathurst Quay, South Niagara, Island airport'],\n ['M6V', 'Not assigned', 'Not assigned'],\n ['M7V', 'Not assigned', 'Not assigned'],\n ['M8V', 'Etobicoke', 'New Toronto, Mimico South, Humber Bay Shores'],\n ['M9V',\n  'Etobicoke',\n  'South Steeles, Silverstone, Humbergate, Jamestown, Mount Olive, Beaumond Heights, Thistletown, Albion Gardens'],\n ['M1W', 'Scarborough', \"Steeles West, L'Amoreaux West\"],\n ['M2W', 'Not assigned', 'Not assigned'],\n ['M3W', 'Not assigned', 'Not assigned'],\n ['M4W', 'Downtown Toronto', 'Rosedale'],\n ['M5W', 'Downtown Toronto', 'Stn A PO Boxes'],\n ['M6W', 'Not assigned', 'Not assigned'],\n ['M7W', 'Not assigned', 'Not assigned'],\n ['M8W', 'Etobicoke', 'Alderwood, Long Branch'],\n ['M9W', 'Etobicoke', 'Northwest, West Humber - Clairville'],\n ['M1X', 'Scarborough', 'Upper Rouge'],\n ['M2X', 'Not assigned', 'Not assigned'],\n ['M3X', 'Not assigned', 'Not assigned'],\n ['M4X', 'Downtown Toronto', 'St. James Town, Cabbagetown'],\n ['M5X', 'Downtown Toronto', 'First Canadian Place, Underground city'],\n ['M6X', 'Not assigned', 'Not assigned'],\n ['M7X', 'Not assigned', 'Not assigned'],\n ['M8X', 'Etobicoke', 'The Kingsway, Montgomery Road, Old Mill North'],\n ['M9X', 'Not assigned', 'Not assigned'],\n ['M1Y', 'Not assigned', 'Not assigned'],\n ['M2Y', 'Not assigned', 'Not assigned'],\n ['M3Y', 'Not assigned', 'Not assigned'],\n ['M4Y', 'Downtown Toronto', 'Church and Wellesley'],\n ['M5Y', 'Not assigned', 'Not assigned'],\n ['M6Y', 'Not assigned', 'Not assigned'],\n ['M7Y',\n  'East Toronto',\n  'Business reply mail Processing Centre, South Central Letter Processing Plant Toronto'],\n ['M8Y',\n  'Etobicoke',\n  \"Old Mill South, King's Mill Park, Sunnylea, Humber Bay, Mimico NE, The Queensway East, Royal York South East, Kingsway Park South East\"],\n ['M9Y', 'Not assigned', 'Not assigned'],\n ['M1Z', 'Not assigned', 'Not assigned'],\n ['M2Z', 'Not assigned', 'Not assigned'],\n ['M3Z', 'Not assigned', 'Not assigned'],\n ['M4Z', 'Not assigned', 'Not assigned'],\n ['M5Z', 'Not assigned', 'Not assigned'],\n ['M6Z', 'Not assigned', 'Not assigned'],\n ['M7Z', 'Not assigned', 'Not assigned'],\n ['M8Z',\n  'Etobicoke',\n  'Mimico NW, The Queensway West, South of Bloor, Kingsway Park South West, Royal York South West'],\n ['M9Z', 'Not assigned', 'Not assigned']]"
                    },
                    "metadata": {}
                }
            ]
        },
        {
            "metadata": {},
            "cell_type": "code",
            "source": "import pandas as pd\nimport numpy as np\npdTable = pd.DataFrame(data=tbl)\npdTable.columns= features\npdTable.head()",
            "execution_count": 4,
            "outputs": [
                {
                    "output_type": "execute_result",
                    "execution_count": 4,
                    "data": {
                        "text/plain": "  Postal Code           Borough              Neighbourhood\n0         M1A      Not assigned               Not assigned\n1         M2A      Not assigned               Not assigned\n2         M3A        North York                  Parkwoods\n3         M4A        North York           Victoria Village\n4         M5A  Downtown Toronto  Regent Park, Harbourfront",
                        "text/html": "<div>\n<style scoped>\n    .dataframe tbody tr th:only-of-type {\n        vertical-align: middle;\n    }\n\n    .dataframe tbody tr th {\n        vertical-align: top;\n    }\n\n    .dataframe thead th {\n        text-align: right;\n    }\n</style>\n<table border=\"1\" class=\"dataframe\">\n  <thead>\n    <tr style=\"text-align: right;\">\n      <th></th>\n      <th>Postal Code</th>\n      <th>Borough</th>\n      <th>Neighbourhood</th>\n    </tr>\n  </thead>\n  <tbody>\n    <tr>\n      <th>0</th>\n      <td>M1A</td>\n      <td>Not assigned</td>\n      <td>Not assigned</td>\n    </tr>\n    <tr>\n      <th>1</th>\n      <td>M2A</td>\n      <td>Not assigned</td>\n      <td>Not assigned</td>\n    </tr>\n    <tr>\n      <th>2</th>\n      <td>M3A</td>\n      <td>North York</td>\n      <td>Parkwoods</td>\n    </tr>\n    <tr>\n      <th>3</th>\n      <td>M4A</td>\n      <td>North York</td>\n      <td>Victoria Village</td>\n    </tr>\n    <tr>\n      <th>4</th>\n      <td>M5A</td>\n      <td>Downtown Toronto</td>\n      <td>Regent Park, Harbourfront</td>\n    </tr>\n  </tbody>\n</table>\n</div>"
                    },
                    "metadata": {}
                }
            ]
        },
        {
            "metadata": {},
            "cell_type": "code",
            "source": "a=pdTable[pdTable.Borough != 'Not assigned']\na=a.reset_index(drop=True)\na.head()",
            "execution_count": 5,
            "outputs": [
                {
                    "output_type": "execute_result",
                    "execution_count": 5,
                    "data": {
                        "text/plain": "  Postal Code           Borough                                Neighbourhood\n0         M3A        North York                                    Parkwoods\n1         M4A        North York                             Victoria Village\n2         M5A  Downtown Toronto                    Regent Park, Harbourfront\n3         M6A        North York             Lawrence Manor, Lawrence Heights\n4         M7A  Downtown Toronto  Queen's Park, Ontario Provincial Government",
                        "text/html": "<div>\n<style scoped>\n    .dataframe tbody tr th:only-of-type {\n        vertical-align: middle;\n    }\n\n    .dataframe tbody tr th {\n        vertical-align: top;\n    }\n\n    .dataframe thead th {\n        text-align: right;\n    }\n</style>\n<table border=\"1\" class=\"dataframe\">\n  <thead>\n    <tr style=\"text-align: right;\">\n      <th></th>\n      <th>Postal Code</th>\n      <th>Borough</th>\n      <th>Neighbourhood</th>\n    </tr>\n  </thead>\n  <tbody>\n    <tr>\n      <th>0</th>\n      <td>M3A</td>\n      <td>North York</td>\n      <td>Parkwoods</td>\n    </tr>\n    <tr>\n      <th>1</th>\n      <td>M4A</td>\n      <td>North York</td>\n      <td>Victoria Village</td>\n    </tr>\n    <tr>\n      <th>2</th>\n      <td>M5A</td>\n      <td>Downtown Toronto</td>\n      <td>Regent Park, Harbourfront</td>\n    </tr>\n    <tr>\n      <th>3</th>\n      <td>M6A</td>\n      <td>North York</td>\n      <td>Lawrence Manor, Lawrence Heights</td>\n    </tr>\n    <tr>\n      <th>4</th>\n      <td>M7A</td>\n      <td>Downtown Toronto</td>\n      <td>Queen's Park, Ontario Provincial Government</td>\n    </tr>\n  </tbody>\n</table>\n</div>"
                    },
                    "metadata": {}
                }
            ]
        },
        {
            "metadata": {},
            "cell_type": "code",
            "source": "a.shape",
            "execution_count": 6,
            "outputs": [
                {
                    "output_type": "execute_result",
                    "execution_count": 6,
                    "data": {
                        "text/plain": "(103, 3)"
                    },
                    "metadata": {}
                }
            ]
        },
        {
            "metadata": {},
            "cell_type": "markdown",
            "source": "---- end of Part1 ----"
        },
        {
            "metadata": {},
            "cell_type": "markdown",
            "source": "<b>PART2<b>"
        },
        {
            "metadata": {},
            "cell_type": "code",
            "source": "#!pip install pgeocode\nimport pgeocode\n\nnomi = pgeocode.Nominatim('ca')\nprint(nomi.query_postal_code(\"M5G\").latitude)\nprint(nomi.query_postal_code(\"M5G\").longitude)",
            "execution_count": 7,
            "outputs": [
                {
                    "output_type": "stream",
                    "text": "Requirement already satisfied: pgeocode in /opt/conda/envs/Python-3.7-main/lib/python3.7/site-packages (0.3.0)\nRequirement already satisfied: numpy in /opt/conda/envs/Python-3.7-main/lib/python3.7/site-packages (from pgeocode) (1.18.5)\nRequirement already satisfied: pandas in /opt/conda/envs/Python-3.7-main/lib/python3.7/site-packages (from pgeocode) (1.0.5)\nRequirement already satisfied: requests in /opt/conda/envs/Python-3.7-main/lib/python3.7/site-packages (from pgeocode) (2.24.0)\nRequirement already satisfied: python-dateutil>=2.6.1 in /opt/conda/envs/Python-3.7-main/lib/python3.7/site-packages (from pandas->pgeocode) (2.8.1)\nRequirement already satisfied: pytz>=2017.2 in /opt/conda/envs/Python-3.7-main/lib/python3.7/site-packages (from pandas->pgeocode) (2020.1)\nRequirement already satisfied: chardet<4,>=3.0.2 in /opt/conda/envs/Python-3.7-main/lib/python3.7/site-packages (from requests->pgeocode) (3.0.4)\nRequirement already satisfied: certifi>=2017.4.17 in /opt/conda/envs/Python-3.7-main/lib/python3.7/site-packages (from requests->pgeocode) (2020.6.20)\nRequirement already satisfied: idna<3,>=2.5 in /opt/conda/envs/Python-3.7-main/lib/python3.7/site-packages (from requests->pgeocode) (2.9)\nRequirement already satisfied: urllib3!=1.25.0,!=1.25.1,<1.26,>=1.21.1 in /opt/conda/envs/Python-3.7-main/lib/python3.7/site-packages (from requests->pgeocode) (1.25.9)\nRequirement already satisfied: six>=1.5 in /opt/conda/envs/Python-3.7-main/lib/python3.7/site-packages (from python-dateutil>=2.6.1->pandas->pgeocode) (1.15.0)\n43.6564\n-79.38600000000002\n",
                    "name": "stdout"
                }
            ]
        },
        {
            "metadata": {},
            "cell_type": "code",
            "source": "##dummy latitude values , copied fro postal codes\nlan=pd.DataFrame(columns=[\"dummy\"])\nlan[\"dummy\"]=a[\"Postal Code\"]\nlon=pd.DataFrame(columns=[\"dumy\"]) \nlon[\"dumy\"]=a[\"Postal Code\"]\n\nfor k in range(len(a['Postal Code'])):\n    #print(k)\n\n    lan[\"dummy\"][k]=(nomi.query_postal_code(lan[\"dummy\"][k]).latitude)\n    lon[\"dumy\"][k]=(nomi.query_postal_code(lon[\"dumy\"][k]).longitude)\n\nlan[\"dummy\"]\nlon[\"dumy\"]\n",
            "execution_count": 19,
            "outputs": [
                {
                    "output_type": "execute_result",
                    "execution_count": 19,
                    "data": {
                        "text/plain": "0       -79.33\n1     -79.3148\n2     -79.3626\n3     -79.4504\n4     -79.3889\n        ...   \n98    -79.5076\n99     -79.383\n100   -79.2505\n101   -79.4939\n102   -79.5231\nName: dumy, Length: 103, dtype: object"
                    },
                    "metadata": {}
                }
            ]
        },
        {
            "metadata": {},
            "cell_type": "code",
            "source": "lan.rename(columns={\"dummy\": \"Latitude\"})\nlon.rename(columns={\"dumy\": \"Longitude\"})",
            "execution_count": 23,
            "outputs": [
                {
                    "output_type": "execute_result",
                    "execution_count": 23,
                    "data": {
                        "text/plain": "    Postal Code           Borough  \\\n0           M3A        North York   \n1           M4A        North York   \n2           M5A  Downtown Toronto   \n3           M6A        North York   \n4           M7A  Downtown Toronto   \n..          ...               ...   \n98          M8X         Etobicoke   \n99          M4Y  Downtown Toronto   \n100         M7Y      East Toronto   \n101         M8Y         Etobicoke   \n102         M8Z         Etobicoke   \n\n                                         Neighbourhood  \n0                                            Parkwoods  \n1                                     Victoria Village  \n2                            Regent Park, Harbourfront  \n3                     Lawrence Manor, Lawrence Heights  \n4          Queen's Park, Ontario Provincial Government  \n..                                                 ...  \n98       The Kingsway, Montgomery Road, Old Mill North  \n99                                Church and Wellesley  \n100  Business reply mail Processing Centre, South C...  \n101  Old Mill South, King's Mill Park, Sunnylea, Hu...  \n102  Mimico NW, The Queensway West, South of Bloor,...  \n\n[103 rows x 3 columns]",
                        "text/html": "<div>\n<style scoped>\n    .dataframe tbody tr th:only-of-type {\n        vertical-align: middle;\n    }\n\n    .dataframe tbody tr th {\n        vertical-align: top;\n    }\n\n    .dataframe thead th {\n        text-align: right;\n    }\n</style>\n<table border=\"1\" class=\"dataframe\">\n  <thead>\n    <tr style=\"text-align: right;\">\n      <th></th>\n      <th>Postal Code</th>\n      <th>Borough</th>\n      <th>Neighbourhood</th>\n    </tr>\n  </thead>\n  <tbody>\n    <tr>\n      <th>0</th>\n      <td>M3A</td>\n      <td>North York</td>\n      <td>Parkwoods</td>\n    </tr>\n    <tr>\n      <th>1</th>\n      <td>M4A</td>\n      <td>North York</td>\n      <td>Victoria Village</td>\n    </tr>\n    <tr>\n      <th>2</th>\n      <td>M5A</td>\n      <td>Downtown Toronto</td>\n      <td>Regent Park, Harbourfront</td>\n    </tr>\n    <tr>\n      <th>3</th>\n      <td>M6A</td>\n      <td>North York</td>\n      <td>Lawrence Manor, Lawrence Heights</td>\n    </tr>\n    <tr>\n      <th>4</th>\n      <td>M7A</td>\n      <td>Downtown Toronto</td>\n      <td>Queen's Park, Ontario Provincial Government</td>\n    </tr>\n    <tr>\n      <th>...</th>\n      <td>...</td>\n      <td>...</td>\n      <td>...</td>\n    </tr>\n    <tr>\n      <th>98</th>\n      <td>M8X</td>\n      <td>Etobicoke</td>\n      <td>The Kingsway, Montgomery Road, Old Mill North</td>\n    </tr>\n    <tr>\n      <th>99</th>\n      <td>M4Y</td>\n      <td>Downtown Toronto</td>\n      <td>Church and Wellesley</td>\n    </tr>\n    <tr>\n      <th>100</th>\n      <td>M7Y</td>\n      <td>East Toronto</td>\n      <td>Business reply mail Processing Centre, South C...</td>\n    </tr>\n    <tr>\n      <th>101</th>\n      <td>M8Y</td>\n      <td>Etobicoke</td>\n      <td>Old Mill South, King's Mill Park, Sunnylea, Hu...</td>\n    </tr>\n    <tr>\n      <th>102</th>\n      <td>M8Z</td>\n      <td>Etobicoke</td>\n      <td>Mimico NW, The Queensway West, South of Bloor,...</td>\n    </tr>\n  </tbody>\n</table>\n<p>103 rows \u00d7 3 columns</p>\n</div>"
                    },
                    "metadata": {}
                }
            ]
        },
        {
            "metadata": {},
            "cell_type": "code",
            "source": "a['Latitude'] = lan\na['Longitude'] = lon\na.head(12)",
            "execution_count": 34,
            "outputs": [
                {
                    "output_type": "execute_result",
                    "execution_count": 34,
                    "data": {
                        "text/plain": "   Postal Code           Borough  \\\n0          M3A        North York   \n1          M4A        North York   \n2          M5A  Downtown Toronto   \n3          M6A        North York   \n4          M7A  Downtown Toronto   \n5          M9A         Etobicoke   \n6          M1B       Scarborough   \n7          M3B        North York   \n8          M4B         East York   \n9          M5B  Downtown Toronto   \n10         M6B        North York   \n11         M9B         Etobicoke   \n\n                                        Neighbourhood Latitude Longitude  \n0                                           Parkwoods  43.7545    -79.33  \n1                                    Victoria Village  43.7276  -79.3148  \n2                           Regent Park, Harbourfront  43.6555  -79.3626  \n3                    Lawrence Manor, Lawrence Heights  43.7223  -79.4504  \n4         Queen's Park, Ontario Provincial Government  43.6641  -79.3889  \n5             Islington Avenue, Humber Valley Village  43.6662  -79.5282  \n6                                      Malvern, Rouge  43.8113   -79.193  \n7                                           Don Mills   43.745   -79.359  \n8                     Parkview Hill, Woodbine Gardens  43.7063  -79.3094  \n9                            Garden District, Ryerson  43.6572  -79.3783  \n10                                          Glencairn  43.7081  -79.4479  \n11  West Deane Park, Princess Gardens, Martin Grov...  43.6505  -79.5517  ",
                        "text/html": "<div>\n<style scoped>\n    .dataframe tbody tr th:only-of-type {\n        vertical-align: middle;\n    }\n\n    .dataframe tbody tr th {\n        vertical-align: top;\n    }\n\n    .dataframe thead th {\n        text-align: right;\n    }\n</style>\n<table border=\"1\" class=\"dataframe\">\n  <thead>\n    <tr style=\"text-align: right;\">\n      <th></th>\n      <th>Postal Code</th>\n      <th>Borough</th>\n      <th>Neighbourhood</th>\n      <th>Latitude</th>\n      <th>Longitude</th>\n    </tr>\n  </thead>\n  <tbody>\n    <tr>\n      <th>0</th>\n      <td>M3A</td>\n      <td>North York</td>\n      <td>Parkwoods</td>\n      <td>43.7545</td>\n      <td>-79.33</td>\n    </tr>\n    <tr>\n      <th>1</th>\n      <td>M4A</td>\n      <td>North York</td>\n      <td>Victoria Village</td>\n      <td>43.7276</td>\n      <td>-79.3148</td>\n    </tr>\n    <tr>\n      <th>2</th>\n      <td>M5A</td>\n      <td>Downtown Toronto</td>\n      <td>Regent Park, Harbourfront</td>\n      <td>43.6555</td>\n      <td>-79.3626</td>\n    </tr>\n    <tr>\n      <th>3</th>\n      <td>M6A</td>\n      <td>North York</td>\n      <td>Lawrence Manor, Lawrence Heights</td>\n      <td>43.7223</td>\n      <td>-79.4504</td>\n    </tr>\n    <tr>\n      <th>4</th>\n      <td>M7A</td>\n      <td>Downtown Toronto</td>\n      <td>Queen's Park, Ontario Provincial Government</td>\n      <td>43.6641</td>\n      <td>-79.3889</td>\n    </tr>\n    <tr>\n      <th>5</th>\n      <td>M9A</td>\n      <td>Etobicoke</td>\n      <td>Islington Avenue, Humber Valley Village</td>\n      <td>43.6662</td>\n      <td>-79.5282</td>\n    </tr>\n    <tr>\n      <th>6</th>\n      <td>M1B</td>\n      <td>Scarborough</td>\n      <td>Malvern, Rouge</td>\n      <td>43.8113</td>\n      <td>-79.193</td>\n    </tr>\n    <tr>\n      <th>7</th>\n      <td>M3B</td>\n      <td>North York</td>\n      <td>Don Mills</td>\n      <td>43.745</td>\n      <td>-79.359</td>\n    </tr>\n    <tr>\n      <th>8</th>\n      <td>M4B</td>\n      <td>East York</td>\n      <td>Parkview Hill, Woodbine Gardens</td>\n      <td>43.7063</td>\n      <td>-79.3094</td>\n    </tr>\n    <tr>\n      <th>9</th>\n      <td>M5B</td>\n      <td>Downtown Toronto</td>\n      <td>Garden District, Ryerson</td>\n      <td>43.6572</td>\n      <td>-79.3783</td>\n    </tr>\n    <tr>\n      <th>10</th>\n      <td>M6B</td>\n      <td>North York</td>\n      <td>Glencairn</td>\n      <td>43.7081</td>\n      <td>-79.4479</td>\n    </tr>\n    <tr>\n      <th>11</th>\n      <td>M9B</td>\n      <td>Etobicoke</td>\n      <td>West Deane Park, Princess Gardens, Martin Grov...</td>\n      <td>43.6505</td>\n      <td>-79.5517</td>\n    </tr>\n  </tbody>\n</table>\n</div>"
                    },
                    "metadata": {}
                }
            ]
        },
        {
            "metadata": {},
            "cell_type": "markdown",
            "source": "---- end of Part2 ----"
        },
        {
            "metadata": {},
            "cell_type": "markdown",
            "source": "<b>PART3<b>"
        },
        {
            "metadata": {},
            "cell_type": "code",
            "source": "# import k-means from clustering stage\nfrom sklearn.cluster import KMeans\n\n#!conda install -c conda-forge folium=0.5.0 --yes # uncomment this line if you haven't completed the Foursquare API lab\n!pip install folium\nimport folium # map rendering library\n\nclusterTable=a\n# set number of clusters\nkclusters = 5\n\n#toronto_grouped_clustering = manhattan_grouped.drop('Neighborhood', 1)\n\n# run k-means clustering\nkmeans = KMeans(n_clusters=kclusters, random_state=0).fit(clusterTable)\n\n# check cluster labels generated for each row in the dataframe\nkmeans.labels_[0:10] ",
            "execution_count": 38,
            "outputs": [
                {
                    "output_type": "stream",
                    "text": "Collecting folium\n  Downloading folium-0.11.0-py2.py3-none-any.whl (93 kB)\n\u001b[K     |\u2588\u2588\u2588\u2588\u2588\u2588\u2588\u2588\u2588\u2588\u2588\u2588\u2588\u2588\u2588\u2588\u2588\u2588\u2588\u2588\u2588\u2588\u2588\u2588\u2588\u2588\u2588\u2588\u2588\u2588\u2588\u2588| 93 kB 3.1 MB/s  eta 0:00:01\n\u001b[?25hCollecting branca>=0.3.0\n  Downloading branca-0.4.1-py3-none-any.whl (24 kB)\nRequirement already satisfied: requests in /opt/conda/envs/Python-3.7-main/lib/python3.7/site-packages (from folium) (2.24.0)\nRequirement already satisfied: jinja2>=2.9 in /opt/conda/envs/Python-3.7-main/lib/python3.7/site-packages (from folium) (2.11.2)\nRequirement already satisfied: numpy in /opt/conda/envs/Python-3.7-main/lib/python3.7/site-packages (from folium) (1.18.5)\nRequirement already satisfied: chardet<4,>=3.0.2 in /opt/conda/envs/Python-3.7-main/lib/python3.7/site-packages (from requests->folium) (3.0.4)\nRequirement already satisfied: urllib3!=1.25.0,!=1.25.1,<1.26,>=1.21.1 in /opt/conda/envs/Python-3.7-main/lib/python3.7/site-packages (from requests->folium) (1.25.9)\nRequirement already satisfied: certifi>=2017.4.17 in /opt/conda/envs/Python-3.7-main/lib/python3.7/site-packages (from requests->folium) (2020.6.20)\nRequirement already satisfied: idna<3,>=2.5 in /opt/conda/envs/Python-3.7-main/lib/python3.7/site-packages (from requests->folium) (2.9)\nRequirement already satisfied: MarkupSafe>=0.23 in /opt/conda/envs/Python-3.7-main/lib/python3.7/site-packages (from jinja2>=2.9->folium) (1.1.1)\nInstalling collected packages: branca, folium\nSuccessfully installed branca-0.4.1 folium-0.11.0\n",
                    "name": "stdout"
                },
                {
                    "output_type": "error",
                    "ename": "ValueError",
                    "evalue": "could not convert string to float: 'Mimico NW, The Queensway West, South of Bloor, Kingsway Park South West, Royal York South West'",
                    "traceback": [
                        "\u001b[0;31m---------------------------------------------------------------------------\u001b[0m",
                        "\u001b[0;31mValueError\u001b[0m                                Traceback (most recent call last)",
                        "\u001b[0;32m<ipython-input-38-e394efb19ca5>\u001b[0m in \u001b[0;36m<module>\u001b[0;34m\u001b[0m\n\u001b[1;32m     13\u001b[0m \u001b[0;34m\u001b[0m\u001b[0m\n\u001b[1;32m     14\u001b[0m \u001b[0;31m# run k-means clustering\u001b[0m\u001b[0;34m\u001b[0m\u001b[0;34m\u001b[0m\u001b[0;34m\u001b[0m\u001b[0m\n\u001b[0;32m---> 15\u001b[0;31m \u001b[0mkmeans\u001b[0m \u001b[0;34m=\u001b[0m \u001b[0mKMeans\u001b[0m\u001b[0;34m(\u001b[0m\u001b[0mn_clusters\u001b[0m\u001b[0;34m=\u001b[0m\u001b[0mkclusters\u001b[0m\u001b[0;34m,\u001b[0m \u001b[0mrandom_state\u001b[0m\u001b[0;34m=\u001b[0m\u001b[0;36m0\u001b[0m\u001b[0;34m)\u001b[0m\u001b[0;34m.\u001b[0m\u001b[0mfit\u001b[0m\u001b[0;34m(\u001b[0m\u001b[0mclusterTable\u001b[0m\u001b[0;34m)\u001b[0m\u001b[0;34m\u001b[0m\u001b[0;34m\u001b[0m\u001b[0m\n\u001b[0m\u001b[1;32m     16\u001b[0m \u001b[0;34m\u001b[0m\u001b[0m\n\u001b[1;32m     17\u001b[0m \u001b[0;31m# check cluster labels generated for each row in the dataframe\u001b[0m\u001b[0;34m\u001b[0m\u001b[0;34m\u001b[0m\u001b[0;34m\u001b[0m\u001b[0m\n",
                        "\u001b[0;32m/opt/conda/envs/Python-3.7-main/lib/python3.7/site-packages/sklearn/cluster/_kmeans.py\u001b[0m in \u001b[0;36mfit\u001b[0;34m(self, X, y, sample_weight)\u001b[0m\n\u001b[1;32m    992\u001b[0m                                 \u001b[0mdtype\u001b[0m\u001b[0;34m=\u001b[0m\u001b[0;34m[\u001b[0m\u001b[0mnp\u001b[0m\u001b[0;34m.\u001b[0m\u001b[0mfloat64\u001b[0m\u001b[0;34m,\u001b[0m \u001b[0mnp\u001b[0m\u001b[0;34m.\u001b[0m\u001b[0mfloat32\u001b[0m\u001b[0;34m]\u001b[0m\u001b[0;34m,\u001b[0m\u001b[0;34m\u001b[0m\u001b[0;34m\u001b[0m\u001b[0m\n\u001b[1;32m    993\u001b[0m                                 \u001b[0morder\u001b[0m\u001b[0;34m=\u001b[0m\u001b[0;34m'C'\u001b[0m\u001b[0;34m,\u001b[0m \u001b[0mcopy\u001b[0m\u001b[0;34m=\u001b[0m\u001b[0mself\u001b[0m\u001b[0;34m.\u001b[0m\u001b[0mcopy_x\u001b[0m\u001b[0;34m,\u001b[0m\u001b[0;34m\u001b[0m\u001b[0;34m\u001b[0m\u001b[0m\n\u001b[0;32m--> 994\u001b[0;31m                                 accept_large_sparse=False)\n\u001b[0m\u001b[1;32m    995\u001b[0m         \u001b[0;31m# verify that the number of samples given is larger than k\u001b[0m\u001b[0;34m\u001b[0m\u001b[0;34m\u001b[0m\u001b[0;34m\u001b[0m\u001b[0m\n\u001b[1;32m    996\u001b[0m         \u001b[0;32mif\u001b[0m \u001b[0m_num_samples\u001b[0m\u001b[0;34m(\u001b[0m\u001b[0mX\u001b[0m\u001b[0;34m)\u001b[0m \u001b[0;34m<\u001b[0m \u001b[0mself\u001b[0m\u001b[0;34m.\u001b[0m\u001b[0mn_clusters\u001b[0m\u001b[0;34m:\u001b[0m\u001b[0;34m\u001b[0m\u001b[0;34m\u001b[0m\u001b[0m\n",
                        "\u001b[0;32m/opt/conda/envs/Python-3.7-main/lib/python3.7/site-packages/sklearn/base.py\u001b[0m in \u001b[0;36m_validate_data\u001b[0;34m(self, X, y, reset, validate_separately, **check_params)\u001b[0m\n\u001b[1;32m    418\u001b[0m                     \u001b[0;34mf\"requires y to be passed, but the target y is None.\"\u001b[0m\u001b[0;34m\u001b[0m\u001b[0;34m\u001b[0m\u001b[0m\n\u001b[1;32m    419\u001b[0m                 )\n\u001b[0;32m--> 420\u001b[0;31m             \u001b[0mX\u001b[0m \u001b[0;34m=\u001b[0m \u001b[0mcheck_array\u001b[0m\u001b[0;34m(\u001b[0m\u001b[0mX\u001b[0m\u001b[0;34m,\u001b[0m \u001b[0;34m**\u001b[0m\u001b[0mcheck_params\u001b[0m\u001b[0;34m)\u001b[0m\u001b[0;34m\u001b[0m\u001b[0;34m\u001b[0m\u001b[0m\n\u001b[0m\u001b[1;32m    421\u001b[0m             \u001b[0mout\u001b[0m \u001b[0;34m=\u001b[0m \u001b[0mX\u001b[0m\u001b[0;34m\u001b[0m\u001b[0;34m\u001b[0m\u001b[0m\n\u001b[1;32m    422\u001b[0m         \u001b[0;32melse\u001b[0m\u001b[0;34m:\u001b[0m\u001b[0;34m\u001b[0m\u001b[0;34m\u001b[0m\u001b[0m\n",
                        "\u001b[0;32m/opt/conda/envs/Python-3.7-main/lib/python3.7/site-packages/sklearn/utils/validation.py\u001b[0m in \u001b[0;36minner_f\u001b[0;34m(*args, **kwargs)\u001b[0m\n\u001b[1;32m     71\u001b[0m                           FutureWarning)\n\u001b[1;32m     72\u001b[0m         \u001b[0mkwargs\u001b[0m\u001b[0;34m.\u001b[0m\u001b[0mupdate\u001b[0m\u001b[0;34m(\u001b[0m\u001b[0;34m{\u001b[0m\u001b[0mk\u001b[0m\u001b[0;34m:\u001b[0m \u001b[0marg\u001b[0m \u001b[0;32mfor\u001b[0m \u001b[0mk\u001b[0m\u001b[0;34m,\u001b[0m \u001b[0marg\u001b[0m \u001b[0;32min\u001b[0m \u001b[0mzip\u001b[0m\u001b[0;34m(\u001b[0m\u001b[0msig\u001b[0m\u001b[0;34m.\u001b[0m\u001b[0mparameters\u001b[0m\u001b[0;34m,\u001b[0m \u001b[0margs\u001b[0m\u001b[0;34m)\u001b[0m\u001b[0;34m}\u001b[0m\u001b[0;34m)\u001b[0m\u001b[0;34m\u001b[0m\u001b[0;34m\u001b[0m\u001b[0m\n\u001b[0;32m---> 73\u001b[0;31m         \u001b[0;32mreturn\u001b[0m \u001b[0mf\u001b[0m\u001b[0;34m(\u001b[0m\u001b[0;34m**\u001b[0m\u001b[0mkwargs\u001b[0m\u001b[0;34m)\u001b[0m\u001b[0;34m\u001b[0m\u001b[0;34m\u001b[0m\u001b[0m\n\u001b[0m\u001b[1;32m     74\u001b[0m     \u001b[0;32mreturn\u001b[0m \u001b[0minner_f\u001b[0m\u001b[0;34m\u001b[0m\u001b[0;34m\u001b[0m\u001b[0m\n\u001b[1;32m     75\u001b[0m \u001b[0;34m\u001b[0m\u001b[0m\n",
                        "\u001b[0;32m/opt/conda/envs/Python-3.7-main/lib/python3.7/site-packages/sklearn/utils/validation.py\u001b[0m in \u001b[0;36mcheck_array\u001b[0;34m(array, accept_sparse, accept_large_sparse, dtype, order, copy, force_all_finite, ensure_2d, allow_nd, ensure_min_samples, ensure_min_features, estimator)\u001b[0m\n\u001b[1;32m    597\u001b[0m                     \u001b[0marray\u001b[0m \u001b[0;34m=\u001b[0m \u001b[0marray\u001b[0m\u001b[0;34m.\u001b[0m\u001b[0mastype\u001b[0m\u001b[0;34m(\u001b[0m\u001b[0mdtype\u001b[0m\u001b[0;34m,\u001b[0m \u001b[0mcasting\u001b[0m\u001b[0;34m=\u001b[0m\u001b[0;34m\"unsafe\"\u001b[0m\u001b[0;34m,\u001b[0m \u001b[0mcopy\u001b[0m\u001b[0;34m=\u001b[0m\u001b[0;32mFalse\u001b[0m\u001b[0;34m)\u001b[0m\u001b[0;34m\u001b[0m\u001b[0;34m\u001b[0m\u001b[0m\n\u001b[1;32m    598\u001b[0m                 \u001b[0;32melse\u001b[0m\u001b[0;34m:\u001b[0m\u001b[0;34m\u001b[0m\u001b[0;34m\u001b[0m\u001b[0m\n\u001b[0;32m--> 599\u001b[0;31m                     \u001b[0marray\u001b[0m \u001b[0;34m=\u001b[0m \u001b[0mnp\u001b[0m\u001b[0;34m.\u001b[0m\u001b[0masarray\u001b[0m\u001b[0;34m(\u001b[0m\u001b[0marray\u001b[0m\u001b[0;34m,\u001b[0m \u001b[0morder\u001b[0m\u001b[0;34m=\u001b[0m\u001b[0morder\u001b[0m\u001b[0;34m,\u001b[0m \u001b[0mdtype\u001b[0m\u001b[0;34m=\u001b[0m\u001b[0mdtype\u001b[0m\u001b[0;34m)\u001b[0m\u001b[0;34m\u001b[0m\u001b[0;34m\u001b[0m\u001b[0m\n\u001b[0m\u001b[1;32m    600\u001b[0m             \u001b[0;32mexcept\u001b[0m \u001b[0mComplexWarning\u001b[0m\u001b[0;34m:\u001b[0m\u001b[0;34m\u001b[0m\u001b[0;34m\u001b[0m\u001b[0m\n\u001b[1;32m    601\u001b[0m                 raise ValueError(\"Complex data not supported\\n\"\n",
                        "\u001b[0;32m/opt/conda/envs/Python-3.7-main/lib/python3.7/site-packages/numpy/core/_asarray.py\u001b[0m in \u001b[0;36masarray\u001b[0;34m(a, dtype, order)\u001b[0m\n\u001b[1;32m     83\u001b[0m \u001b[0;34m\u001b[0m\u001b[0m\n\u001b[1;32m     84\u001b[0m     \"\"\"\n\u001b[0;32m---> 85\u001b[0;31m     \u001b[0;32mreturn\u001b[0m \u001b[0marray\u001b[0m\u001b[0;34m(\u001b[0m\u001b[0ma\u001b[0m\u001b[0;34m,\u001b[0m \u001b[0mdtype\u001b[0m\u001b[0;34m,\u001b[0m \u001b[0mcopy\u001b[0m\u001b[0;34m=\u001b[0m\u001b[0;32mFalse\u001b[0m\u001b[0;34m,\u001b[0m \u001b[0morder\u001b[0m\u001b[0;34m=\u001b[0m\u001b[0morder\u001b[0m\u001b[0;34m)\u001b[0m\u001b[0;34m\u001b[0m\u001b[0;34m\u001b[0m\u001b[0m\n\u001b[0m\u001b[1;32m     86\u001b[0m \u001b[0;34m\u001b[0m\u001b[0m\n\u001b[1;32m     87\u001b[0m \u001b[0;34m\u001b[0m\u001b[0m\n",
                        "\u001b[0;31mValueError\u001b[0m: could not convert string to float: 'Mimico NW, The Queensway West, South of Bloor, Kingsway Park South West, Royal York South West'"
                    ]
                }
            ]
        },
        {
            "metadata": {},
            "cell_type": "code",
            "source": "",
            "execution_count": null,
            "outputs": []
        },
        {
            "metadata": {},
            "cell_type": "code",
            "source": "",
            "execution_count": null,
            "outputs": []
        }
    ],
    "metadata": {
        "kernelspec": {
            "name": "python3",
            "display_name": "Python 3.7",
            "language": "python"
        },
        "language_info": {
            "name": "python",
            "version": "3.7.9",
            "mimetype": "text/x-python",
            "codemirror_mode": {
                "name": "ipython",
                "version": 3
            },
            "pygments_lexer": "ipython3",
            "nbconvert_exporter": "python",
            "file_extension": ".py"
        }
    },
    "nbformat": 4,
    "nbformat_minor": 1
}